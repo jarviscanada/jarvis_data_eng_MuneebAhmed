{
 "cells": [
  {
   "cell_type": "code",
   "execution_count": 0,
   "metadata": {
    "application/vnd.databricks.v1+cell": {
     "cellMetadata": {
      "byteLimit": 2048000,
      "rowLimit": 10000
     },
     "collapsed": true,
     "inputWidgets": {},
     "nuid": "1b0082bd-37cd-427d-86a0-e37eb82446b0",
     "showTitle": false,
     "title": ""
    }
   },
   "outputs": [
    {
     "output_type": "stream",
     "name": "stdout",
     "output_type": "stream",
     "text": [
      "+-------------------+\n|          starttime|\n+-------------------+\n|2012-09-18 09:00:00|\n|2012-09-18 17:30:00|\n|2012-09-18 13:30:00|\n|2012-09-18 20:00:00|\n|2012-09-19 09:30:00|\n|2012-09-19 15:00:00|\n|2012-09-19 12:00:00|\n|2012-09-20 15:30:00|\n|2012-09-20 11:30:00|\n|2012-09-20 14:00:00|\n|2012-09-21 10:30:00|\n|2012-09-21 14:00:00|\n|2012-09-22 08:30:00|\n|2012-09-22 17:00:00|\n|2012-09-23 08:30:00|\n|2012-09-23 17:30:00|\n|2012-09-23 19:00:00|\n|2012-09-24 08:00:00|\n|2012-09-24 16:30:00|\n|2012-09-24 12:30:00|\n+-------------------+\nonly showing top 20 rows\n\n"
     ]
    }
   ],
   "source": [
    "# Join\n",
    "# Question 1 - How can you produce a list of the start times for bookings by members named 'David Farrell'?\n",
    "\n",
    "bookings_df = spark.table(\"bookings\")\n",
    "members_df = spark.table(\"members\")\n",
    "\n",
    "# Join\n",
    "result_df = bookings_df.join(members_df, bookings_df.memid == members_df.memid)\n",
    "\n",
    "# Filter\n",
    "result_df = result_df.filter((members_df.firstname == \"David\") & (members_df.surname == \"Farrell\"))\n",
    "\n",
    "# Select \n",
    "start_times_df = result_df.select(\"starttime\")\n",
    "\n",
    "# Display \n",
    "start_times_df.show()"
   ]
  },
  {
   "cell_type": "code",
   "execution_count": 0,
   "metadata": {
    "application/vnd.databricks.v1+cell": {
     "cellMetadata": {
      "byteLimit": 2048000,
      "rowLimit": 10000
     },
     "collapsed": true,
     "inputWidgets": {},
     "nuid": "e6931996-7cb8-472f-86ac-3e4bd30dd682",
     "showTitle": false,
     "title": ""
    }
   },
   "outputs": [
    {
     "output_type": "stream",
     "name": "stdout",
     "output_type": "stream",
     "text": [
      "+-------------------+--------------+\n|          starttime|          name|\n+-------------------+--------------+\n|2012-09-21 08:00:00|Tennis Court 1|\n|2012-09-21 08:00:00|Tennis Court 2|\n|2012-09-21 09:30:00|Tennis Court 1|\n|2012-09-21 10:00:00|Tennis Court 2|\n|2012-09-21 11:30:00|Tennis Court 2|\n|2012-09-21 12:00:00|Tennis Court 1|\n|2012-09-21 13:30:00|Tennis Court 1|\n|2012-09-21 14:00:00|Tennis Court 2|\n|2012-09-21 15:30:00|Tennis Court 1|\n|2012-09-21 16:00:00|Tennis Court 2|\n|2012-09-21 17:00:00|Tennis Court 1|\n|2012-09-21 18:00:00|Tennis Court 2|\n+-------------------+--------------+\n\n"
     ]
    }
   ],
   "source": [
    "# Join\n",
    "# Question 2 - How can you produce a list of the start times for bookings for tennis courts, for the date '2012-09-21'? Return a list of start time and facility name pairings, ordered by the time.\n",
    "from pyspark.sql.functions import col, to_date, date_format\n",
    "\n",
    "bookings_df = spark.table(\"bookings\")\n",
    "facilities_df = spark.table(\"facilities\")\n",
    "\n",
    "# Join\n",
    "result_df = bookings_df.join(facilities_df, bookings_df.facid == facilities_df.facid)\n",
    "\n",
    "# Filter\n",
    "result_df = result_df.filter(\n",
    "    (facilities_df.name.contains(\"Tennis Court\")) & \n",
    "    (date_format(col(\"starttime\"), \"yyyy-MM-dd\") == \"2012-09-21\")\n",
    ")\n",
    "\n",
    "# Select\n",
    "result_df = result_df.select(\"starttime\", \"name\")\n",
    "\n",
    "# Order\n",
    "result_df = result_df.orderBy(\"starttime\")\n",
    "\n",
    "# Display\n",
    "result_df.show()\n",
    "\n"
   ]
  },
  {
   "cell_type": "code",
   "execution_count": 0,
   "metadata": {
    "application/vnd.databricks.v1+cell": {
     "cellMetadata": {
      "byteLimit": 2048000,
      "rowLimit": 10000
     },
     "collapsed": true,
     "inputWidgets": {},
     "nuid": "4d46bff9-1668-4dde-b408-84283770ec31",
     "showTitle": false,
     "title": ""
    }
   },
   "outputs": [
    {
     "output_type": "stream",
     "name": "stdout",
     "output_type": "stream",
     "text": [
      "+---------+---------+---------+--------+\n| memfname| memsname| recfname|recsname|\n+---------+---------+---------+--------+\n| Florence|    Bader|   Ponder|Stibbons|\n|     Anne|    Baker|   Ponder|Stibbons|\n|  Timothy|    Baker|   Jemima| Farrell|\n|      Tim|   Boothe|      Tim|  Rownam|\n|   Gerald|  Butters|   Darren|   Smith|\n|     Joan|   Coplin|  Timothy|   Baker|\n|    Erica|  Crumpet|    Tracy|   Smith|\n|    Nancy|     Dare|   Janice|Joplette|\n|    David|  Farrell|     null|    null|\n|   Jemima|  Farrell|     null|    null|\n|    GUEST|    GUEST|     null|    null|\n|  Matthew|  Genting|   Gerald| Butters|\n|     John|     Hunt|Millicent| Purview|\n|    David|    Jones|   Janice|Joplette|\n|  Douglas|    Jones|    David|   Jones|\n|   Janice| Joplette|   Darren|   Smith|\n|     Anna|Mackenzie|   Darren|   Smith|\n|  Charles|     Owen|   Darren|   Smith|\n|    David|   Pinker|   Jemima| Farrell|\n|Millicent|  Purview|    Tracy|   Smith|\n+---------+---------+---------+--------+\nonly showing top 20 rows\n\n"
     ]
    }
   ],
   "source": [
    "# Join\n",
    "# Question 3 - How can you output a list of all members, including the individual who recommended them (if any)? Ensure that results are ordered by (surname, firstname).\n",
    "from pyspark.sql.functions import col\n",
    "\n",
    "members_df = spark.table(\"members\")\n",
    "\n",
    "# Join\n",
    "result_df = members_df.alias(\"mems\").join(\n",
    "    members_df.alias(\"recs\"),\n",
    "    col(\"recs.memid\") == col(\"mems.recommendedby\"),\n",
    "    how=\"left\"\n",
    ")\n",
    "\n",
    "# Select and Order\n",
    "result_df = result_df.select(\n",
    "    col(\"mems.firstname\").alias(\"memfname\"),\n",
    "    col(\"mems.surname\").alias(\"memsname\"),\n",
    "    col(\"recs.firstname\").alias(\"recfname\"),\n",
    "    col(\"recs.surname\").alias(\"recsname\")\n",
    ").orderBy(\"memsname\", \"memfname\")\n",
    "\n",
    "# Display\n",
    "result_df.show()"
   ]
  },
  {
   "cell_type": "code",
   "execution_count": 0,
   "metadata": {
    "application/vnd.databricks.v1+cell": {
     "cellMetadata": {
      "byteLimit": 2048000,
      "rowLimit": 10000
     },
     "collapsed": true,
     "inputWidgets": {},
     "nuid": "8d3ae9d9-4f24-467a-8fb2-5dafcb2f0fb8",
     "showTitle": false,
     "title": ""
    }
   },
   "outputs": [
    {
     "output_type": "stream",
     "name": "stdout",
     "output_type": "stream",
     "text": [
      "+--------------+--------------+\n|        member|      facility|\n+--------------+--------------+\n|    Anne Baker|Tennis Court 1|\n|    Anne Baker|Tennis Court 2|\n|  Burton Tracy|Tennis Court 1|\n|  Burton Tracy|Tennis Court 2|\n|  Charles Owen|Tennis Court 1|\n|  Charles Owen|Tennis Court 2|\n|  Darren Smith|Tennis Court 2|\n| David Farrell|Tennis Court 1|\n| David Farrell|Tennis Court 2|\n|   David Jones|Tennis Court 1|\n|   David Jones|Tennis Court 2|\n|  David Pinker|Tennis Court 1|\n| Douglas Jones|Tennis Court 1|\n| Erica Crumpet|Tennis Court 1|\n|Florence Bader|Tennis Court 1|\n|Florence Bader|Tennis Court 2|\n|   GUEST GUEST|Tennis Court 1|\n|   GUEST GUEST|Tennis Court 2|\n|Gerald Butters|Tennis Court 1|\n|Gerald Butters|Tennis Court 2|\n+--------------+--------------+\nonly showing top 20 rows\n\n"
     ]
    }
   ],
   "source": [
    "# Join\n",
    "# Question 4 - How can you produce a list of all members who have used a tennis court? Include in your output the name of the court, and the name of the member formatted as a single column. Ensure no duplicate data, and order by the member name followed by the facility name.\n",
    "from pyspark.sql import functions as F\n",
    "\n",
    "members_df = spark.table(\"members\")\n",
    "bookings_df = spark.table(\"bookings\")\n",
    "facilities_df = spark.table(\"facilities\")\n",
    "\n",
    "# Join \n",
    "result_df = members_df.join(bookings_df, members_df.memid == bookings_df.memid)\n",
    "result_df = result_df.join(facilities_df, bookings_df.facid == facilities_df.facid)\n",
    "\n",
    "# Filter\n",
    "result_df = result_df.filter(facilities_df.name.isin(\"Tennis Court 2\", \"Tennis Court 1\"))\n",
    "\n",
    "# Select \n",
    "result_df = result_df.select(\n",
    "    F.concat(members_df.firstname, F.lit(\" \"), members_df.surname).alias(\"member\"),\n",
    "    facilities_df.name.alias(\"facility\")\n",
    ")\n",
    "\n",
    "# Remove duplicates\n",
    "result_df = result_df.distinct()\n",
    "\n",
    "# Order\n",
    "result_df = result_df.orderBy(\"member\", \"facility\")\n",
    "\n",
    "# Display \n",
    "result_df.show()"
   ]
  },
  {
   "cell_type": "code",
   "execution_count": 0,
   "metadata": {
    "application/vnd.databricks.v1+cell": {
     "cellMetadata": {
      "byteLimit": 2048000,
      "rowLimit": 10000
     },
     "collapsed": true,
     "inputWidgets": {},
     "nuid": "45845a1f-7eb8-45d7-b71b-85b3f503158f",
     "showTitle": false,
     "title": ""
    }
   },
   "outputs": [
    {
     "output_type": "stream",
     "name": "stdout",
     "output_type": "stream",
     "text": [
      "+--------------------+-----------+\n|              member|recommender|\n+--------------------+-----------+\n|      Anna Mackenzie|       null|\n|          Anne Baker|       null|\n|        Burton Tracy|       null|\n|        Charles Owen|       null|\n|        Darren Smith|       null|\n|       David Farrell|       null|\n|         David Jones|       null|\n|        David Pinker|       null|\n|       Douglas Jones|       null|\n|       Erica Crumpet|       null|\n|      Florence Bader|       null|\n|         GUEST GUEST|       null|\n|      Gerald Butters|       null|\n|    Henrietta Rumney|       null|\n|Henry Worthington...|       null|\n| Hyacinth Tupperware|       null|\n|          Jack Smith|       null|\n|     Janice Joplette|       null|\n|      Jemima Farrell|       null|\n|         Joan Coplin|       null|\n+--------------------+-----------+\nonly showing top 20 rows\n\n"
     ]
    }
   ],
   "source": [
    "# Join\n",
    "# Question 5 - How can you output a list of all members, including the individual who recommended them (if any), without using any joins? Ensure that there are no duplicates in the list, and that each firstname + surname pairing is formatted as a column and ordered.\n",
    "from pyspark.sql import functions as F\n",
    "\n",
    "members_df = spark.table(\"members\")\n",
    "\n",
    "# Column\n",
    "members_with_full_name = members_df.withColumn(\n",
    "    \"member\", \n",
    "    F.concat(F.col(\"firstname\"), F.lit(\" \"), F.col(\"surname\"))\n",
    ")\n",
    "\n",
    "# Subquery\n",
    "result_df = members_with_full_name.withColumn(\n",
    "    \"recommender\",\n",
    "    F.expr(\"\"\"\n",
    "        (SELECT CONCAT(recs.firstname, ' ', recs.surname)\n",
    "         FROM members recs\n",
    "         WHERE recs.memid = recommendedby)\n",
    "    \"\"\")\n",
    ")\n",
    "\n",
    "# Select \n",
    "final_df = (result_df\n",
    "    .select(\"member\", \"recommender\")\n",
    "    .distinct()\n",
    "    .orderBy(\"member\")\n",
    ")\n",
    "\n",
    "# Display \n",
    "final_df.show()"
   ]
  },
  {
   "cell_type": "code",
   "execution_count": 0,
   "metadata": {
    "application/vnd.databricks.v1+cell": {
     "cellMetadata": {
      "byteLimit": 2048000,
      "rowLimit": 10000
     },
     "collapsed": true,
     "inputWidgets": {},
     "nuid": "a7f24090-d7ca-4a16-8dba-82301a115fcc",
     "showTitle": false,
     "title": ""
    }
   },
   "outputs": [
    {
     "output_type": "stream",
     "name": "stdout",
     "output_type": "stream",
     "text": [
      "+-------------+--------------------+\n|recommendedby|recommendation_count|\n+-------------+--------------------+\n|            1|                   5|\n|            2|                   3|\n|            3|                   1|\n|            4|                   2|\n|            5|                   1|\n|            6|                   1|\n|            9|                   2|\n|           11|                   1|\n|           13|                   2|\n|           15|                   1|\n|           16|                   1|\n|           20|                   1|\n|           30|                   1|\n+-------------+--------------------+\n\n"
     ]
    }
   ],
   "source": [
    "# Aggregation\n",
    "# Question 1 - Produce a count of the number of recommendations each member has made. Order by member ID.\n",
    "from pyspark.sql.functions import col, count\n",
    "\n",
    "members_df = spark.table(\"members\")\n",
    "\n",
    "# Filter\n",
    "filtered_df = members_df.filter(col(\"recommendedby\").isNotNull())\n",
    "\n",
    "# Group by \n",
    "grouped_df = filtered_df.groupBy(\"recommendedby\").agg(count(\"*\").alias(\"recommendation_count\"))\n",
    "\n",
    "# Order by\n",
    "result_df = grouped_df.orderBy(\"recommendedby\")\n",
    "\n",
    "# Display \n",
    "result_df.show()"
   ]
  },
  {
   "cell_type": "code",
   "execution_count": 0,
   "metadata": {
    "application/vnd.databricks.v1+cell": {
     "cellMetadata": {
      "byteLimit": 2048000,
      "rowLimit": 10000
     },
     "collapsed": true,
     "inputWidgets": {},
     "nuid": "f0eb3d7c-cbbd-461b-9eca-a82409122278",
     "showTitle": false,
     "title": ""
    }
   },
   "outputs": [
    {
     "output_type": "stream",
     "name": "stdout",
     "output_type": "stream",
     "text": [
      "+-----+-----------+\n|facid|Total Slots|\n+-----+-----------+\n|    0|       1320|\n|    1|       1278|\n|    2|       1209|\n|    3|        830|\n|    4|       1404|\n|    5|        228|\n|    6|       1104|\n|    7|        908|\n|    8|        911|\n+-----+-----------+\n\n"
     ]
    }
   ],
   "source": [
    "# Aggregation\n",
    "# Question 2 - Produce a list of the total number of slots booked per facility. For now, just produce an output table consisting of facility id and slots, sorted by facility id.\n",
    "from pyspark.sql.functions import sum\n",
    "\n",
    "bookings_df = spark.table(\"bookings\")\n",
    "\n",
    "# Group by \n",
    "grouped_df = bookings_df.groupBy(\"facid\").agg(sum(\"slots\").alias(\"Total Slots\"))\n",
    "\n",
    "# Order by\n",
    "result_df = grouped_df.orderBy(\"facid\")\n",
    "\n",
    "# Display \n",
    "result_df.show()"
   ]
  },
  {
   "cell_type": "code",
   "execution_count": 0,
   "metadata": {
    "application/vnd.databricks.v1+cell": {
     "cellMetadata": {
      "byteLimit": 2048000,
      "rowLimit": 10000
     },
     "collapsed": true,
     "inputWidgets": {},
     "nuid": "e65efb80-adb9-4f8a-a3ad-b1835fb7fe5b",
     "showTitle": false,
     "title": ""
    }
   },
   "outputs": [
    {
     "output_type": "stream",
     "name": "stdout",
     "output_type": "stream",
     "text": [
      "+-----+-----------+\n|facid|Total Slots|\n+-----+-----------+\n|    5|        122|\n|    3|        422|\n|    7|        426|\n|    8|        471|\n|    6|        540|\n|    2|        570|\n|    1|        588|\n|    0|        591|\n|    4|        648|\n+-----+-----------+\n\n"
     ]
    }
   ],
   "source": [
    "# Aggregation\n",
    "# Question 3 - Produce a list of the total number of slots booked per facility in the month of September 2012. Produce an output table consisting of facility id and slots, sorted by the number of slots.\n",
    "from pyspark.sql.functions import col, sum, date_format\n",
    "\n",
    "bookings_df = spark.table(\"bookings\")\n",
    "\n",
    "# Filter \n",
    "filtered_df = bookings_df.filter(\n",
    "    (col(\"starttime\") >= \"2012-09-01\") & (col(\"starttime\") < \"2012-10-01\")\n",
    ")\n",
    "\n",
    "# Group by \n",
    "grouped_df = filtered_df.groupBy(\"facid\").agg(sum(\"slots\").alias(\"Total Slots\"))\n",
    "\n",
    "# Order by\n",
    "result_df = grouped_df.orderBy(\"Total Slots\")\n",
    "\n",
    "# Display \n",
    "result_df.show()"
   ]
  },
  {
   "cell_type": "code",
   "execution_count": 0,
   "metadata": {
    "application/vnd.databricks.v1+cell": {
     "cellMetadata": {
      "byteLimit": 2048000,
      "rowLimit": 10000
     },
     "collapsed": true,
     "inputWidgets": {},
     "nuid": "fc80dc58-05cc-4a61-8da9-e24f10129c31",
     "showTitle": false,
     "title": ""
    }
   },
   "outputs": [
    {
     "output_type": "stream",
     "name": "stdout",
     "output_type": "stream",
     "text": [
      "+-----+-----+-----------+\n|facid|month|Total Slots|\n+-----+-----+-----------+\n|    0|    7|        270|\n|    0|    8|        459|\n|    0|    9|        591|\n|    1|    7|        207|\n|    1|    8|        483|\n|    1|    9|        588|\n|    2|    7|        180|\n|    2|    8|        459|\n|    2|    9|        570|\n|    3|    7|        104|\n|    3|    8|        304|\n|    3|    9|        422|\n|    4|    7|        264|\n|    4|    8|        492|\n|    4|    9|        648|\n|    5|    7|         24|\n|    5|    8|         82|\n|    5|    9|        122|\n|    6|    7|        164|\n|    6|    8|        400|\n+-----+-----+-----------+\nonly showing top 20 rows\n\n"
     ]
    }
   ],
   "source": [
    "# Aggregation\n",
    "# Question 4 - Produce a list of the total number of slots booked per facility per month in the year of 2012. Produce an output table consisting of facility id and slots, sorted by the id and month.\n",
    "from pyspark.sql.functions import col, sum, month, year\n",
    "\n",
    "bookings_df = spark.table(\"bookings\")\n",
    "\n",
    "# Filter \n",
    "filtered_df = bookings_df.filter(year(col(\"starttime\")) == 2012)\n",
    "\n",
    "# Group by\n",
    "grouped_df = filtered_df.withColumn(\"month\", month(col(\"starttime\"))) \\\n",
    "    .groupBy(\"facid\", \"month\") \\\n",
    "    .agg(sum(\"slots\").alias(\"Total Slots\"))\n",
    "\n",
    "# Order by\n",
    "result_df = grouped_df.orderBy(\"facid\", \"month\")\n",
    "\n",
    "# Display \n",
    "result_df.show()"
   ]
  },
  {
   "cell_type": "code",
   "execution_count": 0,
   "metadata": {
    "application/vnd.databricks.v1+cell": {
     "cellMetadata": {
      "byteLimit": 2048000,
      "rowLimit": 10000
     },
     "collapsed": true,
     "inputWidgets": {},
     "nuid": "8c15190c-5aed-46ac-8410-bf4d767bccad",
     "showTitle": false,
     "title": ""
    }
   },
   "outputs": [
    {
     "output_type": "stream",
     "name": "stdout",
     "output_type": "stream",
     "text": [
      "Total number of members (including guests) who have made at least one booking: 30\n"
     ]
    }
   ],
   "source": [
    "# Aggregation\n",
    "# Question 5 - Find the total number of members (including guests) who have made at least one booking.\n",
    "\n",
    "bookings_df = spark.table(\"bookings\")\n",
    "\n",
    "# Select \n",
    "distinct_members_count = bookings_df.select(\"memid\").distinct().count()\n",
    "\n",
    "# Display\n",
    "print(f\"Total number of members (including guests) who have made at least one booking: {distinct_members_count}\")\n"
   ]
  },
  {
   "cell_type": "code",
   "execution_count": 0,
   "metadata": {
    "application/vnd.databricks.v1+cell": {
     "cellMetadata": {
      "byteLimit": 2048000,
      "rowLimit": 10000
     },
     "collapsed": true,
     "inputWidgets": {},
     "nuid": "d3fc42f2-ddf6-4531-ba48-cff86c12cf1d",
     "showTitle": false,
     "title": ""
    }
   },
   "outputs": [
    {
     "output_type": "stream",
     "name": "stdout",
     "output_type": "stream",
     "text": [
      "+---------+---------+-----+-------------------+\n|  surname|firstname|memid|      first_booking|\n+---------+---------+-----+-------------------+\n|    GUEST|    GUEST|    0|2012-09-01 08:00:00|\n|    Smith|   Darren|    1|2012-09-01 09:00:00|\n|    Smith|    Tracy|    2|2012-09-01 11:30:00|\n|   Rownam|      Tim|    3|2012-09-01 16:00:00|\n| Joplette|   Janice|    4|2012-09-01 15:00:00|\n|  Butters|   Gerald|    5|2012-09-02 12:30:00|\n|    Tracy|   Burton|    6|2012-09-01 15:00:00|\n|     Dare|    Nancy|    7|2012-09-01 12:30:00|\n|   Boothe|      Tim|    8|2012-09-01 08:30:00|\n| Stibbons|   Ponder|    9|2012-09-01 11:00:00|\n|     Owen|  Charles|   10|2012-09-01 11:00:00|\n|    Jones|    David|   11|2012-09-01 09:30:00|\n|    Baker|     Anne|   12|2012-09-01 14:30:00|\n|  Farrell|   Jemima|   13|2012-09-01 09:30:00|\n|    Smith|     Jack|   14|2012-09-01 11:00:00|\n|    Bader| Florence|   15|2012-09-01 10:30:00|\n|    Baker|  Timothy|   16|2012-09-01 15:00:00|\n|   Pinker|    David|   17|2012-09-01 08:30:00|\n|  Genting|  Matthew|   20|2012-09-01 18:00:00|\n|Mackenzie|     Anna|   21|2012-09-01 08:30:00|\n+---------+---------+-----+-------------------+\nonly showing top 20 rows\n\n"
     ]
    }
   ],
   "source": [
    "# Aggregation\n",
    "# Question 6 - Produce a list of each member name, id, and their first booking after September 1st 2012. Order by member ID.\n",
    "from pyspark.sql.functions import col, min\n",
    "\n",
    "bookings_df = spark.table(\"bookings\")\n",
    "members_df = spark.table(\"members\")\n",
    "\n",
    "# Join\n",
    "joined_df = bookings_df.alias(\"bks\").join(members_df.alias(\"mems\"), col(\"bks.memid\") == col(\"mems.memid\"))\n",
    "\n",
    "# Filter \n",
    "filtered_df = joined_df.filter(col(\"bks.starttime\") >= \"2012-09-01\")\n",
    "\n",
    "# Group by \n",
    "grouped_df = filtered_df.groupBy(col(\"mems.memid\"), col(\"mems.surname\"), col(\"mems.firstname\")).agg(min(col(\"bks.starttime\")).alias(\"first_booking\"))\n",
    "\n",
    "# Order by\n",
    "result_df = grouped_df.orderBy(col(\"mems.memid\"))\n",
    "\n",
    "# Select \n",
    "result_df = result_df.select(col(\"mems.surname\"), col(\"mems.firstname\"), col(\"mems.memid\"), col(\"first_booking\"))\n",
    "\n",
    "# Display \n",
    "result_df.show()\n"
   ]
  },
  {
   "cell_type": "code",
   "execution_count": 0,
   "metadata": {
    "application/vnd.databricks.v1+cell": {
     "cellMetadata": {
      "byteLimit": 2048000,
      "rowLimit": 10000
     },
     "collapsed": true,
     "inputWidgets": {},
     "nuid": "909fa223-1da5-4e45-8932-7e1e233f2afe",
     "showTitle": false,
     "title": ""
    }
   },
   "outputs": [
    {
     "output_type": "stream",
     "name": "stdout",
     "output_type": "stream",
     "text": [
      "+----------------+\n|name            |\n+----------------+\n|GUEST, GUEST    |\n|Smith, Darren   |\n|Smith, Tracy    |\n|Rownam, Tim     |\n|Joplette, Janice|\n|Butters, Gerald |\n|Tracy, Burton   |\n|Dare, Nancy     |\n|Boothe, Tim     |\n|Stibbons, Ponder|\n|Owen, Charles   |\n|Jones, David    |\n|Baker, Anne     |\n|Farrell, Jemima |\n|Smith, Jack     |\n|Bader, Florence |\n|Baker, Timothy  |\n|Pinker, David   |\n|Genting, Matthew|\n|Mackenzie, Anna |\n+----------------+\nonly showing top 20 rows\n\n"
     ]
    }
   ],
   "source": [
    "# String & Date\n",
    "# Question 1 - Output the names of all members, formatted as 'Surname, Firstname'\n",
    "from pyspark.sql.functions import concat_ws\n",
    "\n",
    "members_df = spark.table(\"members\")\n",
    "\n",
    "# Concatenate \n",
    "result_df = members_df.select(concat_ws(\", \", col(\"surname\"), col(\"firstname\")).alias(\"name\"))\n",
    "\n",
    "# Display \n",
    "result_df.show(truncate=False)"
   ]
  },
  {
   "cell_type": "code",
   "execution_count": 0,
   "metadata": {
    "application/vnd.databricks.v1+cell": {
     "cellMetadata": {
      "byteLimit": 2048000,
      "rowLimit": 10000
     },
     "collapsed": true,
     "inputWidgets": {},
     "nuid": "48ce0fc3-5a69-49f1-95a9-856baecceddc",
     "showTitle": false,
     "title": ""
    }
   },
   "outputs": [
    {
     "output_type": "stream",
     "name": "stdout",
     "output_type": "stream",
     "text": [
      "+-----+--------------+----------+---------+-------------+------------------+\n|facid|name          |membercost|guestcost|initialoutlay|monthlymaintenance|\n+-----+--------------+----------+---------+-------------+------------------+\n|0    |Tennis Court 1|5.0       |25.0     |10000        |200               |\n|1    |Tennis Court 2|5.0       |25.0     |8000         |200               |\n+-----+--------------+----------+---------+-------------+------------------+\n\n"
     ]
    }
   ],
   "source": [
    "# String & Date\n",
    "# Question 2 - Perform a case-insensitive search to find all facilities whose name begins with 'tennis'. Retrieve all columns.\n",
    "from pyspark.sql.functions import col, upper\n",
    "\n",
    "facilities_df = spark.table(\"facilities\")\n",
    "\n",
    "# Filter\n",
    "result_df = facilities_df.filter(upper(col(\"name\")).like(\"TENNIS%\"))\n",
    "\n",
    "# Display \n",
    "result_df.show(truncate=False)"
   ]
  },
  {
   "cell_type": "code",
   "execution_count": 0,
   "metadata": {
    "application/vnd.databricks.v1+cell": {
     "cellMetadata": {
      "byteLimit": 2048000,
      "rowLimit": 10000
     },
     "inputWidgets": {},
     "nuid": "0f7ed41b-afca-4c3d-91eb-8ad0a5106e5a",
     "showTitle": false,
     "title": ""
    }
   },
   "outputs": [
    {
     "output_type": "stream",
     "name": "stdout",
     "output_type": "stream",
     "text": [
      "+-----+--------------+\n|memid|telephone     |\n+-----+--------------+\n|0    |(000) 000-0000|\n|3    |(844) 693-0723|\n|4    |(833) 942-4710|\n|5    |(844) 078-4130|\n|6    |(822) 354-9973|\n|7    |(833) 776-4001|\n|8    |(811) 433-2547|\n|9    |(833) 160-3900|\n|10   |(855) 542-5251|\n|11   |(844) 536-8036|\n|13   |(855) 016-0163|\n|14   |(822) 163-3254|\n|15   |(833) 499-3527|\n|20   |(811) 972-1377|\n|21   |(822) 661-2898|\n|22   |(822) 499-2232|\n|24   |(822) 413-1470|\n|27   |(822) 989-8876|\n|28   |(855) 755-9876|\n|29   |(855) 894-3758|\n+-----+--------------+\nonly showing top 20 rows\n\n"
     ]
    }
   ],
   "source": [
    "# String & Date\n",
    "# Question 3 - You've noticed that the club's member table has telephone numbers with very inconsistent formatting. You'd like to find all the telephone numbers that contain parentheses, returning the member ID and telephone number sorted by member ID.\n",
    "from pyspark.sql.functions import col\n",
    "\n",
    "members_df = spark.table(\"members\")\n",
    "\n",
    "# Filter\n",
    "result_df = members_df.filter(col(\"telephone\").rlike(r\"[()]\"))\n",
    "\n",
    "# Select \n",
    "result_df = result_df.select(\"memid\", \"telephone\").orderBy(\"memid\")\n",
    "\n",
    "# Display \n",
    "result_df.show(truncate=False)"
   ]
  },
  {
   "cell_type": "code",
   "execution_count": 0,
   "metadata": {
    "application/vnd.databricks.v1+cell": {
     "cellMetadata": {
      "byteLimit": 2048000,
      "rowLimit": 10000
     },
     "collapsed": true,
     "inputWidgets": {},
     "nuid": "ee3b96cf-fd8c-43d7-a434-1da280bd4372",
     "showTitle": false,
     "title": ""
    }
   },
   "outputs": [
    {
     "output_type": "stream",
     "name": "stdout",
     "output_type": "stream",
     "text": [
      "+------+-----+\n|letter|count|\n+------+-----+\n|     B|    5|\n|     C|    2|\n|     D|    1|\n|     F|    2|\n|     G|    2|\n|     H|    1|\n|     J|    3|\n|     M|    1|\n|     O|    1|\n|     P|    2|\n|     R|    2|\n|     S|    6|\n|     T|    2|\n|     W|    1|\n+------+-----+\n\n"
     ]
    }
   ],
   "source": [
    "# String & Date\n",
    "# Question 4 - You'd like to produce a count of how many members you have whose surname starts with each letter of the alphabet. Sort by the letter, and don't worry about printing out a letter if the count is 0.\n",
    "from pyspark.sql.functions import col, count, substring\n",
    "\n",
    "members_df = spark.table(\"members\")\n",
    "\n",
    "# Fiilter\n",
    "members_with_letter_df = members_df.withColumn(\"letter\", substring(col(\"surname\"), 1, 1))\n",
    "\n",
    "# Group by \n",
    "result_df = members_with_letter_df.groupBy(\"letter\").agg(count(\"*\").alias(\"count\"))\n",
    "\n",
    "# Order by \n",
    "result_df = result_df.orderBy(\"letter\")\n",
    "\n",
    "# Display the result\n",
    "result_df.show()"
   ]
  },
  {
   "cell_type": "code",
   "execution_count": 0,
   "metadata": {
    "application/vnd.databricks.v1+cell": {
     "cellMetadata": {
      "byteLimit": 2048000,
      "rowLimit": 10000
     },
     "inputWidgets": {},
     "nuid": "4da83fc4-8f35-4a27-a64d-5a0acfb290ad",
     "showTitle": false,
     "title": ""
    }
   },
   "outputs": [
    {
     "output_type": "stream",
     "name": "stdout",
     "output_type": "stream",
     "text": [
      "+-------------------+\n|ts                 |\n+-------------------+\n|2012-10-01 00:00:00|\n|2012-10-02 00:00:00|\n|2012-10-03 00:00:00|\n|2012-10-04 00:00:00|\n|2012-10-05 00:00:00|\n|2012-10-06 00:00:00|\n|2012-10-07 00:00:00|\n|2012-10-08 00:00:00|\n|2012-10-09 00:00:00|\n|2012-10-10 00:00:00|\n|2012-10-11 00:00:00|\n|2012-10-12 00:00:00|\n|2012-10-13 00:00:00|\n|2012-10-14 00:00:00|\n|2012-10-15 00:00:00|\n|2012-10-16 00:00:00|\n|2012-10-17 00:00:00|\n|2012-10-18 00:00:00|\n|2012-10-19 00:00:00|\n|2012-10-20 00:00:00|\n|2012-10-21 00:00:00|\n|2012-10-22 00:00:00|\n|2012-10-23 00:00:00|\n|2012-10-24 00:00:00|\n|2012-10-25 00:00:00|\n|2012-10-26 00:00:00|\n|2012-10-27 00:00:00|\n|2012-10-28 00:00:00|\n|2012-10-29 00:00:00|\n|2012-10-30 00:00:00|\n|2012-10-31 00:00:00|\n+-------------------+\n\n"
     ]
    }
   ],
   "source": [
    "# String & Date\n",
    "# Question 5 - Produce a list of all the dates in October 2012. They can be output as a timestamp (with time set to midnight) or a date.\n",
    "from pyspark.sql import functions as F\n",
    "from pyspark.sql.types import TimestampType\n",
    "from datetime import datetime, timedelta\n",
    "\n",
    "start_date = datetime(2012, 10, 1)\n",
    "end_date = datetime(2012, 10, 31)\n",
    "date_list = [(start_date + timedelta(days=x),) for x in range((end_date - start_date).days + 1)]\n",
    "\n",
    "date_df = spark.createDataFrame(date_list, [\"ts\"])\n",
    "\n",
    "date_df = date_df.withColumn(\"ts\", F.col(\"ts\").cast(TimestampType()))\n",
    "\n",
    "date_df = date_df.orderBy(\"ts\")\n",
    "\n",
    "date_df.show(31, truncate=False)\n"
   ]
  },
  {
   "cell_type": "code",
   "execution_count": 0,
   "metadata": {
    "application/vnd.databricks.v1+cell": {
     "cellMetadata": {
      "byteLimit": 2048000,
      "rowLimit": 10000
     },
     "inputWidgets": {},
     "nuid": "66f0da4b-2f08-4461-9876-6c1f09937106",
     "showTitle": false,
     "title": ""
    }
   },
   "outputs": [
    {
     "output_type": "stream",
     "name": "stdout",
     "output_type": "stream",
     "text": [
      "+-------------------+-------------+\n|month              |booking_count|\n+-------------------+-------------+\n|2012-07-01 00:00:00|658          |\n|2012-08-01 00:00:00|1472         |\n|2012-09-01 00:00:00|1913         |\n|2013-01-01 00:00:00|1            |\n+-------------------+-------------+\n\n"
     ]
    }
   ],
   "source": [
    "# String & Date\n",
    "# Question 6 - Return a count of bookings for each month, sorted by month\n",
    "from pyspark.sql.functions import date_trunc, count, col\n",
    "\n",
    "bookings_df = spark.table(\"bookings\")\n",
    "\n",
    "# Truncate \n",
    "truncated_month_df = bookings_df.withColumn(\"month\", date_trunc(\"month\", col(\"starttime\")))\n",
    "\n",
    "# Group by \n",
    "monthly_booking_counts_df = truncated_month_df.groupBy(\"month\").agg(count(\"*\").alias(\"booking_count\"))\n",
    "\n",
    "# Order by\n",
    "sorted_monthly_booking_counts_df = monthly_booking_counts_df.orderBy(\"month\")\n",
    "\n",
    "# Display \n",
    "sorted_monthly_booking_counts_df.show(truncate=False)"
   ]
  }
 ],
 "metadata": {
  "application/vnd.databricks.v1+notebook": {
   "dashboards": [],
   "environmentMetadata": null,
   "language": "python",
   "notebookMetadata": {
    "pythonIndentUnit": 4
   },
   "notebookName": "Spark Dataframe Data Manipulation (pgexercises)",
   "widgets": {}
  }
 },
 "nbformat": 4,
 "nbformat_minor": 0
}
