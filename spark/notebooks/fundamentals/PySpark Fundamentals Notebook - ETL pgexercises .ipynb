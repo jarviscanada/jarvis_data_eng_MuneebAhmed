{
 "cells": [
  {
   "cell_type": "code",
   "execution_count": 0,
   "metadata": {
    "application/vnd.databricks.v1+cell": {
     "cellMetadata": {
      "byteLimit": 2048000,
      "rowLimit": 10000
     },
     "collapsed": true,
     "inputWidgets": {},
     "nuid": "ebdb07fa-5115-4f81-82c2-c12702eea6b1",
     "showTitle": false,
     "title": ""
    }
   },
   "outputs": [
    {
     "output_type": "stream",
     "name": "stdout",
     "output_type": "stream",
     "text": [
      "root\n |-- bookid: integer (nullable = true)\n |-- facid: integer (nullable = true)\n |-- memid: integer (nullable = true)\n |-- starttime: timestamp (nullable = true)\n |-- slots: integer (nullable = true)\n\n"
     ]
    }
   ],
   "source": [
    "from pyspark.sql.types import StructType, StructField, IntegerType, TimestampType\n",
    "\n",
    "# File location for bookings.csv\n",
    "file_location = \"/FileStore/tables/bookings.csv\"\n",
    "\n",
    "# Define schema for the bookings table\n",
    "schema = StructType([\n",
    "    StructField(\"bookid\", IntegerType(), True),\n",
    "    StructField(\"facid\", IntegerType(), True),\n",
    "    StructField(\"memid\", IntegerType(), True),\n",
    "    StructField(\"starttime\", TimestampType(), True),\n",
    "    StructField(\"slots\", IntegerType(), True)\n",
    "])\n",
    "\n",
    "# Read data from CSV file into DataFrame with predefined schema\n",
    "df = spark.read.format(\"csv\").option(\"header\", \"true\").schema(schema).load(file_location)\n",
    "\n",
    "# Print schema to verify\n",
    "df.printSchema()\n",
    "\n",
    "# Drop the table if it already exists\n",
    "spark.sql(\"DROP TABLE IF EXISTS bookings\")\n",
    "\n",
    "# Write data from DataFrame into managed table\n",
    "df.write.saveAsTable(\"bookings\")"
   ]
  },
  {
   "cell_type": "code",
   "execution_count": 0,
   "metadata": {
    "application/vnd.databricks.v1+cell": {
     "cellMetadata": {
      "byteLimit": 2048000,
      "rowLimit": 10000
     },
     "collapsed": true,
     "inputWidgets": {},
     "nuid": "96948c8d-f16e-4292-87e6-bf3b93b564ed",
     "showTitle": false,
     "title": ""
    }
   },
   "outputs": [
    {
     "output_type": "stream",
     "name": "stdout",
     "output_type": "stream",
     "text": [
      "root\n |-- facid: integer (nullable = true)\n |-- name: string (nullable = true)\n |-- membercost: float (nullable = true)\n |-- guestcost: float (nullable = true)\n |-- initialoutlay: integer (nullable = true)\n |-- monthlymaintenance: integer (nullable = true)\n\n"
     ]
    }
   ],
   "source": [
    "from pyspark.sql.types import StructType, StructField, IntegerType, TimestampType, StringType, FloatType\n",
    "\n",
    "# File location for facilities.csv\n",
    "file_location = \"/FileStore/tables/facilities.csv\"\n",
    "\n",
    "# Define schema for the facilities table\n",
    "schema = StructType([\n",
    "    StructField(\"facid\", IntegerType(), True),\n",
    "    StructField(\"name\", StringType(), True),\n",
    "    StructField(\"membercost\", FloatType(), True),\n",
    "    StructField(\"guestcost\", FloatType(), True),\n",
    "    StructField(\"initialoutlay\", IntegerType(), True),\n",
    "    StructField(\"monthlymaintenance\", IntegerType(), True)\n",
    "])\n",
    "\n",
    "# Read data from CSV file into DataFrame with predefined schema\n",
    "df = spark.read.format(\"csv\").option(\"header\", \"true\").schema(schema).load(file_location)\n",
    "\n",
    "# Print schema to verify\n",
    "df.printSchema()\n",
    "\n",
    "# Drop the table if it already exists\n",
    "spark.sql(\"DROP TABLE IF EXISTS facilities\")\n",
    "\n",
    "# Write data from DataFrame into managed table\n",
    "df.write.saveAsTable(\"facilities\")"
   ]
  },
  {
   "cell_type": "code",
   "execution_count": 0,
   "metadata": {
    "application/vnd.databricks.v1+cell": {
     "cellMetadata": {
      "byteLimit": 2048000,
      "rowLimit": 10000
     },
     "collapsed": true,
     "inputWidgets": {},
     "nuid": "cf60c212-a0be-4319-adb7-a29ad6e863f9",
     "showTitle": false,
     "title": ""
    }
   },
   "outputs": [
    {
     "output_type": "stream",
     "name": "stdout",
     "output_type": "stream",
     "text": [
      "root\n |-- memid: integer (nullable = true)\n |-- surname: string (nullable = true)\n |-- firstname: string (nullable = true)\n |-- address: string (nullable = true)\n |-- zipcode: integer (nullable = true)\n |-- telephone: string (nullable = true)\n |-- recommendedby: integer (nullable = true)\n |-- joindate: timestamp (nullable = true)\n\n"
     ]
    }
   ],
   "source": [
    "from pyspark.sql.types import StructType, StructField, IntegerType, TimestampType, StringType, FloatType\n",
    "\n",
    "# File location for members.csv\n",
    "file_location = \"/FileStore/tables/members.csv\"\n",
    "\n",
    "# Define schema for the members table\n",
    "schema = StructType([\n",
    "    StructField(\"memid\", IntegerType(), True),\n",
    "    StructField(\"surname\", StringType(), True),\n",
    "    StructField(\"firstname\", StringType(), True),\n",
    "    StructField(\"address\", StringType(), True),\n",
    "    StructField(\"zipcode\", IntegerType(), True),\n",
    "    StructField(\"telephone\", StringType(), True),\n",
    "    StructField(\"recommendedby\", IntegerType(), True),\n",
    "    StructField(\"joindate\", TimestampType(), True)\n",
    "])\n",
    "\n",
    "# Read data from CSV file into DataFrame with predefined schema\n",
    "df = spark.read.format(\"csv\").option(\"header\", \"true\").schema(schema).load(file_location)\n",
    "\n",
    "# Print schema to verify\n",
    "df.printSchema()\n",
    "\n",
    "# Drop the table if it already exists\n",
    "spark.sql(\"DROP TABLE IF EXISTS members\")\n",
    "\n",
    "# Write data from DataFrame into managed table\n",
    "df.write.saveAsTable(\"members\")"
   ]
  }
 ],
 "metadata": {
  "application/vnd.databricks.v1+notebook": {
   "dashboards": [],
   "environmentMetadata": null,
   "language": "python",
   "notebookMetadata": {
    "pythonIndentUnit": 4
   },
   "notebookName": "PySpark Fundamentals Notebook",
   "widgets": {}
  }
 },
 "nbformat": 4,
 "nbformat_minor": 0
}
